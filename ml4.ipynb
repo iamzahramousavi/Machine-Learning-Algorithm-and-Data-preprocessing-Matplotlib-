{
 "cells": [
  {
   "cell_type": "code",
   "execution_count": 1,
   "id": "d146ab27",
   "metadata": {},
   "outputs": [],
   "source": [
    "import seaborn as sb\n",
    "import pandas as pd\n",
    "import numpy as np\n",
    "import matplotlib.pyplot as plt"
   ]
  },
  {
   "cell_type": "code",
   "execution_count": 19,
   "id": "a3bb6f3a",
   "metadata": {},
   "outputs": [
    {
     "data": {
      "text/html": [
       "<div>\n",
       "<style scoped>\n",
       "    .dataframe tbody tr th:only-of-type {\n",
       "        vertical-align: middle;\n",
       "    }\n",
       "\n",
       "    .dataframe tbody tr th {\n",
       "        vertical-align: top;\n",
       "    }\n",
       "\n",
       "    .dataframe thead th {\n",
       "        text-align: right;\n",
       "    }\n",
       "</style>\n",
       "<table border=\"1\" class=\"dataframe\">\n",
       "  <thead>\n",
       "    <tr style=\"text-align: right;\">\n",
       "      <th></th>\n",
       "      <th>Name</th>\n",
       "      <th>OS</th>\n",
       "      <th>Capacity</th>\n",
       "      <th>Ram</th>\n",
       "      <th>Weight</th>\n",
       "      <th>Company</th>\n",
       "      <th>inch</th>\n",
       "    </tr>\n",
       "  </thead>\n",
       "  <tbody>\n",
       "    <tr>\n",
       "      <th>0</th>\n",
       "      <td>Galaxy S8</td>\n",
       "      <td>Android</td>\n",
       "      <td>64</td>\n",
       "      <td>4</td>\n",
       "      <td>149.0</td>\n",
       "      <td>Samsung</td>\n",
       "      <td>5.8</td>\n",
       "    </tr>\n",
       "    <tr>\n",
       "      <th>1</th>\n",
       "      <td>Lumia 950</td>\n",
       "      <td>windows</td>\n",
       "      <td>32</td>\n",
       "      <td>3</td>\n",
       "      <td>150.0</td>\n",
       "      <td>Microsoft</td>\n",
       "      <td>5.2</td>\n",
       "    </tr>\n",
       "    <tr>\n",
       "      <th>2</th>\n",
       "      <td>Xpreia L1</td>\n",
       "      <td>Android</td>\n",
       "      <td>16</td>\n",
       "      <td>2</td>\n",
       "      <td>180.0</td>\n",
       "      <td>Sony</td>\n",
       "      <td>5.5</td>\n",
       "    </tr>\n",
       "    <tr>\n",
       "      <th>3</th>\n",
       "      <td>iphone 7</td>\n",
       "      <td>ios</td>\n",
       "      <td>128</td>\n",
       "      <td>2</td>\n",
       "      <td>138.0</td>\n",
       "      <td>Apple</td>\n",
       "      <td>4.7</td>\n",
       "    </tr>\n",
       "    <tr>\n",
       "      <th>4</th>\n",
       "      <td>U Ultra</td>\n",
       "      <td>Android</td>\n",
       "      <td>64</td>\n",
       "      <td>4</td>\n",
       "      <td>170.0</td>\n",
       "      <td>HTC</td>\n",
       "      <td>5.7</td>\n",
       "    </tr>\n",
       "    <tr>\n",
       "      <th>5</th>\n",
       "      <td>Galaxy S5</td>\n",
       "      <td>Android</td>\n",
       "      <td>16</td>\n",
       "      <td>2</td>\n",
       "      <td>145.0</td>\n",
       "      <td>Samsung</td>\n",
       "      <td>5.1</td>\n",
       "    </tr>\n",
       "    <tr>\n",
       "      <th>6</th>\n",
       "      <td>iphone 5s</td>\n",
       "      <td>ios</td>\n",
       "      <td>32</td>\n",
       "      <td>1</td>\n",
       "      <td>112.0</td>\n",
       "      <td>Apple</td>\n",
       "      <td>4.0</td>\n",
       "    </tr>\n",
       "    <tr>\n",
       "      <th>7</th>\n",
       "      <td>Moto G5</td>\n",
       "      <td>Android</td>\n",
       "      <td>16</td>\n",
       "      <td>3</td>\n",
       "      <td>144.5</td>\n",
       "      <td>Motorola</td>\n",
       "      <td>5.0</td>\n",
       "    </tr>\n",
       "    <tr>\n",
       "      <th>8</th>\n",
       "      <td>Pixel</td>\n",
       "      <td>Android</td>\n",
       "      <td>128</td>\n",
       "      <td>4</td>\n",
       "      <td>143.0</td>\n",
       "      <td>Google</td>\n",
       "      <td>5.0</td>\n",
       "    </tr>\n",
       "  </tbody>\n",
       "</table>\n",
       "</div>"
      ],
      "text/plain": [
       "         Name        OS  Capacity  Ram  Weight     Company  inch\n",
       "0  Galaxy S8   Android         64    4   149.0    Samsung    5.8\n",
       "1  Lumia 950   windows         32    3   150.0  Microsoft    5.2\n",
       "2  Xpreia L1   Android         16    2   180.0       Sony    5.5\n",
       "3   iphone 7       ios        128    2   138.0      Apple    4.7\n",
       "4    U Ultra   Android         64    4   170.0        HTC    5.7\n",
       "5  Galaxy S5   Android         16    2   145.0    Samsung    5.1\n",
       "6  iphone 5s       ios         32    1   112.0      Apple    4.0\n",
       "7    Moto G5   Android         16    3   144.5   Motorola    5.0\n",
       "8      Pixel   Android        128    4   143.0     Google    5.0"
      ]
     },
     "execution_count": 19,
     "metadata": {},
     "output_type": "execute_result"
    }
   ],
   "source": [
    "Smartphones= pd.read_csv(\"Z://csv//Smartphone.csv\")\n",
    "Smartphones"
   ]
  },
  {
   "cell_type": "code",
   "execution_count": 13,
   "id": "c296d633",
   "metadata": {},
   "outputs": [
    {
     "data": {
      "text/plain": [
       "2    3\n",
       "4    3\n",
       "3    2\n",
       "1    1\n",
       "Name: Ram, dtype: int64"
      ]
     },
     "execution_count": 13,
     "metadata": {},
     "output_type": "execute_result"
    }
   ],
   "source": [
    "counts = Smartphones.Ram.value_counts()\n",
    "counts"
   ]
  },
  {
   "cell_type": "code",
   "execution_count": 14,
   "id": "26960a62",
   "metadata": {},
   "outputs": [
    {
     "data": {
      "text/plain": [
       "Int64Index([2, 4, 3, 1], dtype='int64')"
      ]
     },
     "execution_count": 14,
     "metadata": {},
     "output_type": "execute_result"
    }
   ],
   "source": [
    "category = counts.index\n",
    "category"
   ]
  },
  {
   "cell_type": "code",
   "execution_count": 17,
   "id": "bfd141c2",
   "metadata": {},
   "outputs": [
    {
     "data": {
      "image/png": "[encoded data removed]",
      "text/plain": [
       "<Figure size 432x288 with 1 Axes>"
      ]
     },
     "metadata": {
      "needs_background": "light"
     },
     "output_type": "display_data"
    }
   ],
   "source": [
    "plt.bar(category , counts)\n",
    "plt.xlabel('Ram')\n",
    "plt.ylabel('counts')\n",
    "plt.xticks([1,2,3,4])\n",
    "plt.yticks([1,2,3])\n",
    "plt.show()"
   ]
  },
  {
   "cell_type": "code",
   "execution_count": 22,
   "id": "41346d77",
   "metadata": {},
   "outputs": [
    {
     "data": {
      "text/plain": [
       "(array([4. , 4.7, 5. , 5. , 5.1, 5.2, 5.5, 5.7, 5.8]),\n",
       " array([0.11111111, 0.22222222, 0.33333333, 0.44444444, 0.55555556,\n",
       "        0.66666667, 0.77777778, 0.88888889, 1.        ]))"
      ]
     },
     "execution_count": 22,
     "metadata": {},
     "output_type": "execute_result"
    }
   ],
   "source": [
    "def ECDF (data) :\n",
    "    n=len(data)\n",
    "    x=np.sort(data)\n",
    "    y=np.arange(1,n+1)/n\n",
    "    return x,y\n",
    "\n",
    "x,y = ECDF(Smartphones.inch)\n",
    "x,y"
   ]
  },
  {
   "cell_type": "code",
   "execution_count": 28,
   "id": "744e6546",
   "metadata": {},
   "outputs": [
    {
     "data": {
      "image/png": "[encoded data removed]",
      "text/plain": [
       "<Figure size 792x576 with 1 Axes>"
      ]
     },
     "metadata": {
      "needs_background": "light"
     },
     "output_type": "display_data"
    }
   ],
   "source": [
    "plt.figure(figsize=(11,8))\n",
    "plt.scatter(x,y,s=80)\n",
    "plt.margins(0.05)\n",
    "plt.xlabel(\"inch\" , fontsize=18)\n",
    "plt.ylabel('ECDF' , fontsize=18)\n",
    "plt.show()\n"
   ]
  },
  {
   "cell_type": "code",
   "execution_count": 29,
   "id": "95fea8ce",
   "metadata": {},
   "outputs": [
    {
     "data": {
      "text/plain": [
       "5.111111111111111"
      ]
     },
     "execution_count": 29,
     "metadata": {},
     "output_type": "execute_result"
    }
   ],
   "source": [
    "np.mean(Smartphones.inch)"
   ]
  },
  {
   "cell_type": "code",
   "execution_count": 30,
   "id": "9a3fbb29",
   "metadata": {},
   "outputs": [
    {
     "data": {
      "text/plain": [
       "5.1"
      ]
     },
     "execution_count": 30,
     "metadata": {},
     "output_type": "execute_result"
    }
   ],
   "source": [
    "np.median(Smartphones.inch)"
   ]
  },
  {
   "cell_type": "code",
   "execution_count": 31,
   "id": "28eb16ef",
   "metadata": {},
   "outputs": [
    {
     "data": {
      "text/plain": [
       "array([4.88, 5.1 , 5.5 ])"
      ]
     },
     "execution_count": 31,
     "metadata": {},
     "output_type": "execute_result"
    }
   ],
   "source": [
    "np.percentile(Smartphones.inch , [20,50,75])"
   ]
  },
  {
   "cell_type": "code",
   "execution_count": 32,
   "id": "96b05cc7",
   "metadata": {},
   "outputs": [
    {
     "data": {
      "text/plain": [
       "0.2676543209876543"
      ]
     },
     "execution_count": 32,
     "metadata": {},
     "output_type": "execute_result"
    }
   ],
   "source": [
    "np.var(Smartphones.inch)"
   ]
  },
  {
   "cell_type": "code",
   "execution_count": 33,
   "id": "d6e7643f",
   "metadata": {},
   "outputs": [
    {
     "data": {
      "text/plain": [
       "0.5173531878587918"
      ]
     },
     "execution_count": 33,
     "metadata": {},
     "output_type": "execute_result"
    }
   ],
   "source": [
    "np.std(Smartphones.inch)"
   ]
  },
  {
   "cell_type": "code",
   "execution_count": 35,
   "id": "72c09ab0",
   "metadata": {},
   "outputs": [
    {
     "data": {
      "image/png": "[encoded data removed]",
      "text/plain": [
       "<Figure size 792x576 with 1 Axes>"
      ]
     },
     "metadata": {
      "needs_background": "light"
     },
     "output_type": "display_data"
    }
   ],
   "source": [
    "plt.figure(figsize=(11,8))\n",
    "plt.scatter(Smartphones.inch,Smartphones.Weight,s=80)\n",
    "plt.margins(0.05)\n",
    "plt.xlabel(\"inch\" , fontsize=18)\n",
    "plt.ylabel('weight' , fontsize=18)\n",
    "plt.show()\n"
   ]
  },
  {
   "cell_type": "code",
   "execution_count": 36,
   "id": "0c4b4374",
   "metadata": {},
   "outputs": [
    {
     "data": {
      "text/plain": [
       "array([[3.01111111e-01, 8.91944444e+00],\n",
       "       [8.91944444e+00, 3.69402778e+02]])"
      ]
     },
     "execution_count": 36,
     "metadata": {},
     "output_type": "execute_result"
    }
   ],
   "source": [
    "np.cov(Smartphones.inch , Smartphones.Weight)"
   ]
  },
  {
   "cell_type": "code",
   "execution_count": 40,
   "id": "083b78d2",
   "metadata": {},
   "outputs": [
    {
     "data": {
      "image/png": "[encoded data removed]",
      "text/plain": [
       "<Figure size 720x720 with 20 Axes>"
      ]
     },
     "metadata": {
      "needs_background": "light"
     },
     "output_type": "display_data"
    }
   ],
   "source": [
    "sb.pairplot(Smartphones)\n",
    "plt.show()"
   ]
  },
  {
   "cell_type": "code",
   "execution_count": 41,
   "id": "01080c54",
   "metadata": {},
   "outputs": [],
   "source": [
    "from scipy.stats import pearsonr"
   ]
  },
  {
   "cell_type": "code",
   "execution_count": 46,
   "id": "76803b29",
   "metadata": {},
   "outputs": [
    {
     "data": {
      "text/plain": [
       "(0.8457155883705422, 0.0040705879684336975)"
      ]
     },
     "execution_count": 46,
     "metadata": {},
     "output_type": "execute_result"
    }
   ],
   "source": [
    "pearson_coeff , p_value = pearsonr(Smartphones.inch , Smartphones.Weight)\n",
    "pearson_coeff , p_value"
   ]
  },
  {
   "cell_type": "code",
   "execution_count": 49,
   "id": "bc680e44",
   "metadata": {},
   "outputs": [
    {
     "data": {
      "text/html": [
       "<div>\n",
       "<style scoped>\n",
       "    .dataframe tbody tr th:only-of-type {\n",
       "        vertical-align: middle;\n",
       "    }\n",
       "\n",
       "    .dataframe tbody tr th {\n",
       "        vertical-align: top;\n",
       "    }\n",
       "\n",
       "    .dataframe thead th {\n",
       "        text-align: right;\n",
       "    }\n",
       "</style>\n",
       "<table border=\"1\" class=\"dataframe\">\n",
       "  <thead>\n",
       "    <tr style=\"text-align: right;\">\n",
       "      <th></th>\n",
       "      <th>Weight</th>\n",
       "      <th>inch</th>\n",
       "    </tr>\n",
       "  </thead>\n",
       "  <tbody>\n",
       "    <tr>\n",
       "      <th>Weight</th>\n",
       "      <td>1.000000</td>\n",
       "      <td>0.845716</td>\n",
       "    </tr>\n",
       "    <tr>\n",
       "      <th>inch</th>\n",
       "      <td>0.845716</td>\n",
       "      <td>1.000000</td>\n",
       "    </tr>\n",
       "  </tbody>\n",
       "</table>\n",
       "</div>"
      ],
      "text/plain": [
       "          Weight      inch\n",
       "Weight  1.000000  0.845716\n",
       "inch    0.845716  1.000000"
      ]
     },
     "execution_count": 49,
     "metadata": {},
     "output_type": "execute_result"
    }
   ],
   "source": [
    "num_var = Smartphones.drop(['Name' , 'OS' , 'Capacity' , 'Ram' , 'Company'] , axis = 1)\n",
    "cor = num_var.corr()\n",
    "cor"
   ]
  },
  {
   "cell_type": "code",
   "execution_count": 53,
   "id": "7860c2cf",
   "metadata": {},
   "outputs": [
    {
     "data": {
      "image/png": "[encoded data removed]",
      "text/plain": [
       "<Figure size 432x288 with 2 Axes>"
      ]
     },
     "metadata": {
      "needs_background": "light"
     },
     "output_type": "display_data"
    }
   ],
   "source": [
    "sb.heatmap(cor,xticklabels = cor.columns , yticklabels = cor.columns , vmin = -1 , vmax= +1)\n",
    "plt.show()"
   ]
  },
  {
   "cell_type": "code",
   "execution_count": 58,
   "id": "ca8f4f7c",
   "metadata": {},
   "outputs": [
    {
     "data": {
      "text/html": [
       "<div>\n",
       "<style scoped>\n",
       "    .dataframe tbody tr th:only-of-type {\n",
       "        vertical-align: middle;\n",
       "    }\n",
       "\n",
       "    .dataframe tbody tr th {\n",
       "        vertical-align: top;\n",
       "    }\n",
       "\n",
       "    .dataframe thead th {\n",
       "        text-align: right;\n",
       "    }\n",
       "</style>\n",
       "<table border=\"1\" class=\"dataframe\">\n",
       "  <thead>\n",
       "    <tr style=\"text-align: right;\">\n",
       "      <th></th>\n",
       "      <th>Capacity</th>\n",
       "      <th>Ram</th>\n",
       "    </tr>\n",
       "  </thead>\n",
       "  <tbody>\n",
       "    <tr>\n",
       "      <th>0</th>\n",
       "      <td>64</td>\n",
       "      <td>4</td>\n",
       "    </tr>\n",
       "    <tr>\n",
       "      <th>1</th>\n",
       "      <td>32</td>\n",
       "      <td>3</td>\n",
       "    </tr>\n",
       "    <tr>\n",
       "      <th>2</th>\n",
       "      <td>16</td>\n",
       "      <td>2</td>\n",
       "    </tr>\n",
       "    <tr>\n",
       "      <th>3</th>\n",
       "      <td>128</td>\n",
       "      <td>2</td>\n",
       "    </tr>\n",
       "    <tr>\n",
       "      <th>4</th>\n",
       "      <td>64</td>\n",
       "      <td>4</td>\n",
       "    </tr>\n",
       "    <tr>\n",
       "      <th>5</th>\n",
       "      <td>16</td>\n",
       "      <td>2</td>\n",
       "    </tr>\n",
       "    <tr>\n",
       "      <th>6</th>\n",
       "      <td>32</td>\n",
       "      <td>1</td>\n",
       "    </tr>\n",
       "    <tr>\n",
       "      <th>7</th>\n",
       "      <td>16</td>\n",
       "      <td>3</td>\n",
       "    </tr>\n",
       "    <tr>\n",
       "      <th>8</th>\n",
       "      <td>128</td>\n",
       "      <td>4</td>\n",
       "    </tr>\n",
       "  </tbody>\n",
       "</table>\n",
       "</div>"
      ],
      "text/plain": [
       "   Capacity  Ram\n",
       "0        64    4\n",
       "1        32    3\n",
       "2        16    2\n",
       "3       128    2\n",
       "4        64    4\n",
       "5        16    2\n",
       "6        32    1\n",
       "7        16    3\n",
       "8       128    4"
      ]
     },
     "execution_count": 58,
     "metadata": {},
     "output_type": "execute_result"
    }
   ],
   "source": [
    "num_var1 = Smartphones.drop(['Name' , 'OS' , 'Weight' , 'inch' , 'Company'] , axis = 1)\n",
    "num_var1 "
   ]
  },
  {
   "cell_type": "code",
   "execution_count": 62,
   "id": "cf86992f",
   "metadata": {},
   "outputs": [
    {
     "data": {
      "text/plain": [
       "0.4419819033287751"
      ]
     },
     "execution_count": 62,
     "metadata": {},
     "output_type": "execute_result"
    }
   ],
   "source": [
    "from scipy.stats import spearmanr\n",
    "spearman_coeff , p_value = spearmanr(num_var1.Capacity ,num_var1.Ram)\n",
    "spearman_coeff"
   ]
  },
  {
   "cell_type": "code",
   "execution_count": null,
   "id": "45e35952",
   "metadata": {},
   "outputs": [],
   "source": []
  }
 ],
 "metadata": {
  "kernelspec": {
   "display_name": "Python 3",
   "language": "python",
   "name": "python3"
  },
  "language_info": {
   "codemirror_mode": {
    "name": "ipython",
    "version": 3
   },
   "file_extension": ".py",
   "mimetype": "text/x-python",
   "name": "python",
   "nbconvert_exporter": "python",
   "pygments_lexer": "ipython3",
   "version": "3.8.8"
  }
 },
 "nbformat": 4,
 "nbformat_minor": 5
}
